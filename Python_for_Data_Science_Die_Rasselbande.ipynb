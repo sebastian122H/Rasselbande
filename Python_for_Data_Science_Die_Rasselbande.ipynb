{
  "nbformat": 4,
  "nbformat_minor": 0,
  "metadata": {
    "colab": {
      "provenance": [],
      "include_colab_link": true
    },
    "kernelspec": {
      "name": "python3",
      "display_name": "Python 3"
    },
    "language_info": {
      "name": "python"
    }
  },
  "cells": [
    {
      "cell_type": "markdown",
      "metadata": {
        "id": "view-in-github",
        "colab_type": "text"
      },
      "source": [
        "<a href=\"https://colab.research.google.com/github/sebastian122H/Rasselbande/blob/main/Python_for_Data_Science_Die_Rasselbande.ipynb\" target=\"_parent\"><img src=\"https://colab.research.google.com/assets/colab-badge.svg\" alt=\"Open In Colab\"/></a>"
      ]
    },
    {
      "cell_type": "markdown",
      "source": [
        "#What is the relationship between budget and Revenue?\n",
        "\n",
        "\n",
        "\n",
        "\n"
      ],
      "metadata": {
        "id": "4HJQSQJjKm4P"
      }
    },
    {
      "cell_type": "code",
      "source": [
        "##These are all necessary packages that need to be installed for the Code to function\n",
        "import pandas as pd\n",
        "import numpy as np\n",
        "from scipy.stats import pearsonr\n",
        "import matplotlib.pyplot as plt \n",
        "import seaborn as sns"
      ],
      "metadata": {
        "id": "sU9HM1PtNCPT"
      },
      "execution_count": 372,
      "outputs": []
    },
    {
      "cell_type": "markdown",
      "source": [
        "# Data Cleaning and String Check"
      ],
      "metadata": {
        "id": "nG_mdsngfdxG"
      }
    },
    {
      "cell_type": "code",
      "source": [
        "#This code reads the CSV file with the data points in it\n",
        "df = pd.read_csv(\"tmdb_movies_data.csv\")\n",
        "df"
      ],
      "metadata": {
        "colab": {
          "base_uri": "https://localhost:8080/",
          "height": 1000
        },
        "id": "acjm_-l9YJGR",
        "outputId": "d976da24-83af-4c11-a896-bcd6d2b4d977"
      },
      "execution_count": 392,
      "outputs": [
        {
          "output_type": "execute_result",
          "data": {
            "text/plain": [
              "           id    imdb_id  popularity     budget     revenue  \\\n",
              "0      280996  tt3168230    3.927333          0    29355203   \n",
              "1      339527  tt1291570    3.358321          0    22354572   \n",
              "2      284289  tt2911668    2.272044          0       45895   \n",
              "3      347096  tt3478232    2.165433          0           0   \n",
              "4      308369  tt2582496    2.141506          0           0   \n",
              "...       ...        ...         ...        ...         ...   \n",
              "10861    1452  tt0348150    1.957331  270000000   391081192   \n",
              "10862   99861  tt2395427    5.944927  280000000  1405035767   \n",
              "10863     285  tt0449088    4.965391  300000000   961000000   \n",
              "10864    1865  tt1298650    4.955130  380000000  1021683000   \n",
              "10865   46528  tt1032751    0.250540  425000000    11087569   \n",
              "\n",
              "                                    original_title  \\\n",
              "0                                       Mr. Holmes   \n",
              "1                                           Solace   \n",
              "2                                 Beyond the Reach   \n",
              "3                           Mythica: The Darkspore   \n",
              "4                   Me and Earl and the Dying Girl   \n",
              "...                                            ...   \n",
              "10861                             Superman Returns   \n",
              "10862                      Avengers: Age of Ultron   \n",
              "10863     Pirates of the Caribbean: At World's End   \n",
              "10864  Pirates of the Caribbean: On Stranger Tides   \n",
              "10865                            The Warrior's Way   \n",
              "\n",
              "                                                    cast  \\\n",
              "0      Ian McKellen|Milo Parker|Laura Linney|Hattie M...   \n",
              "1      Abbie Cornish|Jeffrey Dean Morgan|Colin Farrel...   \n",
              "2      Michael Douglas|Jeremy Irvine|Hanna Mangan Law...   \n",
              "3      Melanie Stone|Kevin Sorbo|Adam Johnson|Jake St...   \n",
              "4      Thomas Mann|RJ Cyler|Olivia Cooke|Connie Britt...   \n",
              "...                                                  ...   \n",
              "10861  Brandon Routh|Kevin Spacey|Kate Bosworth|James...   \n",
              "10862  Robert Downey Jr.|Chris Hemsworth|Mark Ruffalo...   \n",
              "10863  Johnny Depp|Orlando Bloom|Keira Knightley|Geof...   \n",
              "10864  Johnny Depp|PenÃ©lope Cruz|Geoffrey Rush|Ian M...   \n",
              "10865  Kate Bosworth|Jang Dong-gun|Geoffrey Rush|Dann...   \n",
              "\n",
              "                                                homepage  \\\n",
              "0                           http://www.mrholmesfilm.com/   \n",
              "1                                                    NaN   \n",
              "2                                                    NaN   \n",
              "3              http://www.mythicamovie.com/#!blank/wufvh   \n",
              "4      http://www.foxsearchlight.com/meandearlandthed...   \n",
              "...                                                  ...   \n",
              "10861                            http://www.superman.com   \n",
              "10862  http://marvel.com/movies/movie/193/avengers_ag...   \n",
              "10863       http://disney.go.com/disneypictures/pirates/   \n",
              "10864  http://disney.go.com/pirates/index-on-stranger...   \n",
              "10865             http://www.iamrogue.com/thewarriorsway   \n",
              "\n",
              "                      director  \\\n",
              "0                  Bill Condon   \n",
              "1                Afonso Poyart   \n",
              "2      Jean-Baptiste LÃ©onetti   \n",
              "3                Anne K. Black   \n",
              "4          Alfonso Gomez-Rejon   \n",
              "...                        ...   \n",
              "10861             Bryan Singer   \n",
              "10862              Joss Whedon   \n",
              "10863           Gore Verbinski   \n",
              "10864             Rob Marshall   \n",
              "10865               Sngmoo Lee   \n",
              "\n",
              "                                                 tagline  ...  \\\n",
              "0                                The man behind the myth  ...   \n",
              "1      A serial killer who can see your future, a psy...  ...   \n",
              "2                                                    NaN  ...   \n",
              "3                                                    NaN  ...   \n",
              "4               A Little Friendship Never Killed Anyone.  ...   \n",
              "...                                                  ...  ...   \n",
              "10861                                                NaN  ...   \n",
              "10862                                A New Age Has Come.  ...   \n",
              "10863     At the end of the world, the adventure begins.  ...   \n",
              "10864                        Live Forever Or Die Trying.  ...   \n",
              "10865                            Assassin. Hero. Legend.  ...   \n",
              "\n",
              "                                                overview runtime  \\\n",
              "0      The story is set in 1947, following a long-ret...     103   \n",
              "1      A psychic doctor, John Clancy, works with an F...     101   \n",
              "2      A high-rolling corporate shark and his impover...      95   \n",
              "3      When Teelaâ€™s sister is murdered and a powerf...     108   \n",
              "4      Greg is coasting through senior year of high s...     105   \n",
              "...                                                  ...     ...   \n",
              "10861  Set 5 years after the end of Superman II, the ...     154   \n",
              "10862  When Tony Stark tries to jumpstart a dormant p...     141   \n",
              "10863  Captain Barbossa, long believed to be dead, ha...     169   \n",
              "10864  Captain Jack Sparrow crosses paths with a woma...     136   \n",
              "10865  An Asian assassin (Dong-gun Jang) is forced to...     100   \n",
              "\n",
              "                                          genres  \\\n",
              "0                                  Mystery|Drama   \n",
              "1                            Crime|Drama|Mystery   \n",
              "2                                       Thriller   \n",
              "3                       Action|Adventure|Fantasy   \n",
              "4                                   Comedy|Drama   \n",
              "...                                          ...   \n",
              "10861   Adventure|Fantasy|Action|Science Fiction   \n",
              "10862           Action|Adventure|Science Fiction   \n",
              "10863                   Adventure|Fantasy|Action   \n",
              "10864                   Adventure|Action|Fantasy   \n",
              "10865  Adventure|Fantasy|Action|Western|Thriller   \n",
              "\n",
              "                                    production_companies release_date  \\\n",
              "0      BBC Films|See-Saw Films|FilmNation Entertainme...    6/19/2015   \n",
              "1      Eden Rock Media|FilmNation Entertainment|Flynn...     09.03.15   \n",
              "2                                          Furthur Films    4/17/2015   \n",
              "3                               Arrowstorm Entertainment    6/24/2015   \n",
              "4                                      Indian Paintbrush     06.12.15   \n",
              "...                                                  ...          ...   \n",
              "10861  DC Comics|Legendary Pictures|Warner Bros.|Bad ...    6/28/2006   \n",
              "10862  Marvel Studios|Prime Focus|Revolution Sun Studios    4/22/2015   \n",
              "10863  Walt Disney Pictures|Jerry Bruckheimer Films|S...    5/19/2007   \n",
              "10864  Walt Disney Pictures|Jerry Bruckheimer Films|M...     05.11.11   \n",
              "10865                           Boram Entertainment Inc.     12.02.10   \n",
              "\n",
              "      vote_count  vote_average  release_year   budget_adj   revenue_adj  \n",
              "0            425           6.4          2015          0.0  2.700677e+07  \n",
              "1            474           6.2          2015          0.0  2.056620e+07  \n",
              "2             81           5.5          2015          0.0  4.222338e+04  \n",
              "3             27           5.1          2015          0.0  0.000000e+00  \n",
              "4            569           7.7          2015          0.0  0.000000e+00  \n",
              "...          ...           ...           ...          ...           ...  \n",
              "10861        834           5.3          2006  292050672.7  4.230205e+08  \n",
              "10862       4304           7.4          2015  257599886.7  1.292632e+09  \n",
              "10863       2626           6.8          2007  315500574.8  1.010654e+09  \n",
              "10864       3180           6.3          2011  368371256.2  9.904175e+08  \n",
              "10865         74           6.4          2010  425000000.0  1.108757e+07  \n",
              "\n",
              "[10866 rows x 21 columns]"
            ],
            "text/html": [
              "\n",
              "  <div id=\"df-4907e4d7-5aea-496b-b5d3-30abf5eecb22\">\n",
              "    <div class=\"colab-df-container\">\n",
              "      <div>\n",
              "<style scoped>\n",
              "    .dataframe tbody tr th:only-of-type {\n",
              "        vertical-align: middle;\n",
              "    }\n",
              "\n",
              "    .dataframe tbody tr th {\n",
              "        vertical-align: top;\n",
              "    }\n",
              "\n",
              "    .dataframe thead th {\n",
              "        text-align: right;\n",
              "    }\n",
              "</style>\n",
              "<table border=\"1\" class=\"dataframe\">\n",
              "  <thead>\n",
              "    <tr style=\"text-align: right;\">\n",
              "      <th></th>\n",
              "      <th>id</th>\n",
              "      <th>imdb_id</th>\n",
              "      <th>popularity</th>\n",
              "      <th>budget</th>\n",
              "      <th>revenue</th>\n",
              "      <th>original_title</th>\n",
              "      <th>cast</th>\n",
              "      <th>homepage</th>\n",
              "      <th>director</th>\n",
              "      <th>tagline</th>\n",
              "      <th>...</th>\n",
              "      <th>overview</th>\n",
              "      <th>runtime</th>\n",
              "      <th>genres</th>\n",
              "      <th>production_companies</th>\n",
              "      <th>release_date</th>\n",
              "      <th>vote_count</th>\n",
              "      <th>vote_average</th>\n",
              "      <th>release_year</th>\n",
              "      <th>budget_adj</th>\n",
              "      <th>revenue_adj</th>\n",
              "    </tr>\n",
              "  </thead>\n",
              "  <tbody>\n",
              "    <tr>\n",
              "      <th>0</th>\n",
              "      <td>280996</td>\n",
              "      <td>tt3168230</td>\n",
              "      <td>3.927333</td>\n",
              "      <td>0</td>\n",
              "      <td>29355203</td>\n",
              "      <td>Mr. Holmes</td>\n",
              "      <td>Ian McKellen|Milo Parker|Laura Linney|Hattie M...</td>\n",
              "      <td>http://www.mrholmesfilm.com/</td>\n",
              "      <td>Bill Condon</td>\n",
              "      <td>The man behind the myth</td>\n",
              "      <td>...</td>\n",
              "      <td>The story is set in 1947, following a long-ret...</td>\n",
              "      <td>103</td>\n",
              "      <td>Mystery|Drama</td>\n",
              "      <td>BBC Films|See-Saw Films|FilmNation Entertainme...</td>\n",
              "      <td>6/19/2015</td>\n",
              "      <td>425</td>\n",
              "      <td>6.4</td>\n",
              "      <td>2015</td>\n",
              "      <td>0.0</td>\n",
              "      <td>2.700677e+07</td>\n",
              "    </tr>\n",
              "    <tr>\n",
              "      <th>1</th>\n",
              "      <td>339527</td>\n",
              "      <td>tt1291570</td>\n",
              "      <td>3.358321</td>\n",
              "      <td>0</td>\n",
              "      <td>22354572</td>\n",
              "      <td>Solace</td>\n",
              "      <td>Abbie Cornish|Jeffrey Dean Morgan|Colin Farrel...</td>\n",
              "      <td>NaN</td>\n",
              "      <td>Afonso Poyart</td>\n",
              "      <td>A serial killer who can see your future, a psy...</td>\n",
              "      <td>...</td>\n",
              "      <td>A psychic doctor, John Clancy, works with an F...</td>\n",
              "      <td>101</td>\n",
              "      <td>Crime|Drama|Mystery</td>\n",
              "      <td>Eden Rock Media|FilmNation Entertainment|Flynn...</td>\n",
              "      <td>09.03.15</td>\n",
              "      <td>474</td>\n",
              "      <td>6.2</td>\n",
              "      <td>2015</td>\n",
              "      <td>0.0</td>\n",
              "      <td>2.056620e+07</td>\n",
              "    </tr>\n",
              "    <tr>\n",
              "      <th>2</th>\n",
              "      <td>284289</td>\n",
              "      <td>tt2911668</td>\n",
              "      <td>2.272044</td>\n",
              "      <td>0</td>\n",
              "      <td>45895</td>\n",
              "      <td>Beyond the Reach</td>\n",
              "      <td>Michael Douglas|Jeremy Irvine|Hanna Mangan Law...</td>\n",
              "      <td>NaN</td>\n",
              "      <td>Jean-Baptiste LÃ©onetti</td>\n",
              "      <td>NaN</td>\n",
              "      <td>...</td>\n",
              "      <td>A high-rolling corporate shark and his impover...</td>\n",
              "      <td>95</td>\n",
              "      <td>Thriller</td>\n",
              "      <td>Furthur Films</td>\n",
              "      <td>4/17/2015</td>\n",
              "      <td>81</td>\n",
              "      <td>5.5</td>\n",
              "      <td>2015</td>\n",
              "      <td>0.0</td>\n",
              "      <td>4.222338e+04</td>\n",
              "    </tr>\n",
              "    <tr>\n",
              "      <th>3</th>\n",
              "      <td>347096</td>\n",
              "      <td>tt3478232</td>\n",
              "      <td>2.165433</td>\n",
              "      <td>0</td>\n",
              "      <td>0</td>\n",
              "      <td>Mythica: The Darkspore</td>\n",
              "      <td>Melanie Stone|Kevin Sorbo|Adam Johnson|Jake St...</td>\n",
              "      <td>http://www.mythicamovie.com/#!blank/wufvh</td>\n",
              "      <td>Anne K. Black</td>\n",
              "      <td>NaN</td>\n",
              "      <td>...</td>\n",
              "      <td>When Teelaâ€™s sister is murdered and a powerf...</td>\n",
              "      <td>108</td>\n",
              "      <td>Action|Adventure|Fantasy</td>\n",
              "      <td>Arrowstorm Entertainment</td>\n",
              "      <td>6/24/2015</td>\n",
              "      <td>27</td>\n",
              "      <td>5.1</td>\n",
              "      <td>2015</td>\n",
              "      <td>0.0</td>\n",
              "      <td>0.000000e+00</td>\n",
              "    </tr>\n",
              "    <tr>\n",
              "      <th>4</th>\n",
              "      <td>308369</td>\n",
              "      <td>tt2582496</td>\n",
              "      <td>2.141506</td>\n",
              "      <td>0</td>\n",
              "      <td>0</td>\n",
              "      <td>Me and Earl and the Dying Girl</td>\n",
              "      <td>Thomas Mann|RJ Cyler|Olivia Cooke|Connie Britt...</td>\n",
              "      <td>http://www.foxsearchlight.com/meandearlandthed...</td>\n",
              "      <td>Alfonso Gomez-Rejon</td>\n",
              "      <td>A Little Friendship Never Killed Anyone.</td>\n",
              "      <td>...</td>\n",
              "      <td>Greg is coasting through senior year of high s...</td>\n",
              "      <td>105</td>\n",
              "      <td>Comedy|Drama</td>\n",
              "      <td>Indian Paintbrush</td>\n",
              "      <td>06.12.15</td>\n",
              "      <td>569</td>\n",
              "      <td>7.7</td>\n",
              "      <td>2015</td>\n",
              "      <td>0.0</td>\n",
              "      <td>0.000000e+00</td>\n",
              "    </tr>\n",
              "    <tr>\n",
              "      <th>...</th>\n",
              "      <td>...</td>\n",
              "      <td>...</td>\n",
              "      <td>...</td>\n",
              "      <td>...</td>\n",
              "      <td>...</td>\n",
              "      <td>...</td>\n",
              "      <td>...</td>\n",
              "      <td>...</td>\n",
              "      <td>...</td>\n",
              "      <td>...</td>\n",
              "      <td>...</td>\n",
              "      <td>...</td>\n",
              "      <td>...</td>\n",
              "      <td>...</td>\n",
              "      <td>...</td>\n",
              "      <td>...</td>\n",
              "      <td>...</td>\n",
              "      <td>...</td>\n",
              "      <td>...</td>\n",
              "      <td>...</td>\n",
              "      <td>...</td>\n",
              "    </tr>\n",
              "    <tr>\n",
              "      <th>10861</th>\n",
              "      <td>1452</td>\n",
              "      <td>tt0348150</td>\n",
              "      <td>1.957331</td>\n",
              "      <td>270000000</td>\n",
              "      <td>391081192</td>\n",
              "      <td>Superman Returns</td>\n",
              "      <td>Brandon Routh|Kevin Spacey|Kate Bosworth|James...</td>\n",
              "      <td>http://www.superman.com</td>\n",
              "      <td>Bryan Singer</td>\n",
              "      <td>NaN</td>\n",
              "      <td>...</td>\n",
              "      <td>Set 5 years after the end of Superman II, the ...</td>\n",
              "      <td>154</td>\n",
              "      <td>Adventure|Fantasy|Action|Science Fiction</td>\n",
              "      <td>DC Comics|Legendary Pictures|Warner Bros.|Bad ...</td>\n",
              "      <td>6/28/2006</td>\n",
              "      <td>834</td>\n",
              "      <td>5.3</td>\n",
              "      <td>2006</td>\n",
              "      <td>292050672.7</td>\n",
              "      <td>4.230205e+08</td>\n",
              "    </tr>\n",
              "    <tr>\n",
              "      <th>10862</th>\n",
              "      <td>99861</td>\n",
              "      <td>tt2395427</td>\n",
              "      <td>5.944927</td>\n",
              "      <td>280000000</td>\n",
              "      <td>1405035767</td>\n",
              "      <td>Avengers: Age of Ultron</td>\n",
              "      <td>Robert Downey Jr.|Chris Hemsworth|Mark Ruffalo...</td>\n",
              "      <td>http://marvel.com/movies/movie/193/avengers_ag...</td>\n",
              "      <td>Joss Whedon</td>\n",
              "      <td>A New Age Has Come.</td>\n",
              "      <td>...</td>\n",
              "      <td>When Tony Stark tries to jumpstart a dormant p...</td>\n",
              "      <td>141</td>\n",
              "      <td>Action|Adventure|Science Fiction</td>\n",
              "      <td>Marvel Studios|Prime Focus|Revolution Sun Studios</td>\n",
              "      <td>4/22/2015</td>\n",
              "      <td>4304</td>\n",
              "      <td>7.4</td>\n",
              "      <td>2015</td>\n",
              "      <td>257599886.7</td>\n",
              "      <td>1.292632e+09</td>\n",
              "    </tr>\n",
              "    <tr>\n",
              "      <th>10863</th>\n",
              "      <td>285</td>\n",
              "      <td>tt0449088</td>\n",
              "      <td>4.965391</td>\n",
              "      <td>300000000</td>\n",
              "      <td>961000000</td>\n",
              "      <td>Pirates of the Caribbean: At World's End</td>\n",
              "      <td>Johnny Depp|Orlando Bloom|Keira Knightley|Geof...</td>\n",
              "      <td>http://disney.go.com/disneypictures/pirates/</td>\n",
              "      <td>Gore Verbinski</td>\n",
              "      <td>At the end of the world, the adventure begins.</td>\n",
              "      <td>...</td>\n",
              "      <td>Captain Barbossa, long believed to be dead, ha...</td>\n",
              "      <td>169</td>\n",
              "      <td>Adventure|Fantasy|Action</td>\n",
              "      <td>Walt Disney Pictures|Jerry Bruckheimer Films|S...</td>\n",
              "      <td>5/19/2007</td>\n",
              "      <td>2626</td>\n",
              "      <td>6.8</td>\n",
              "      <td>2007</td>\n",
              "      <td>315500574.8</td>\n",
              "      <td>1.010654e+09</td>\n",
              "    </tr>\n",
              "    <tr>\n",
              "      <th>10864</th>\n",
              "      <td>1865</td>\n",
              "      <td>tt1298650</td>\n",
              "      <td>4.955130</td>\n",
              "      <td>380000000</td>\n",
              "      <td>1021683000</td>\n",
              "      <td>Pirates of the Caribbean: On Stranger Tides</td>\n",
              "      <td>Johnny Depp|PenÃ©lope Cruz|Geoffrey Rush|Ian M...</td>\n",
              "      <td>http://disney.go.com/pirates/index-on-stranger...</td>\n",
              "      <td>Rob Marshall</td>\n",
              "      <td>Live Forever Or Die Trying.</td>\n",
              "      <td>...</td>\n",
              "      <td>Captain Jack Sparrow crosses paths with a woma...</td>\n",
              "      <td>136</td>\n",
              "      <td>Adventure|Action|Fantasy</td>\n",
              "      <td>Walt Disney Pictures|Jerry Bruckheimer Films|M...</td>\n",
              "      <td>05.11.11</td>\n",
              "      <td>3180</td>\n",
              "      <td>6.3</td>\n",
              "      <td>2011</td>\n",
              "      <td>368371256.2</td>\n",
              "      <td>9.904175e+08</td>\n",
              "    </tr>\n",
              "    <tr>\n",
              "      <th>10865</th>\n",
              "      <td>46528</td>\n",
              "      <td>tt1032751</td>\n",
              "      <td>0.250540</td>\n",
              "      <td>425000000</td>\n",
              "      <td>11087569</td>\n",
              "      <td>The Warrior's Way</td>\n",
              "      <td>Kate Bosworth|Jang Dong-gun|Geoffrey Rush|Dann...</td>\n",
              "      <td>http://www.iamrogue.com/thewarriorsway</td>\n",
              "      <td>Sngmoo Lee</td>\n",
              "      <td>Assassin. Hero. Legend.</td>\n",
              "      <td>...</td>\n",
              "      <td>An Asian assassin (Dong-gun Jang) is forced to...</td>\n",
              "      <td>100</td>\n",
              "      <td>Adventure|Fantasy|Action|Western|Thriller</td>\n",
              "      <td>Boram Entertainment Inc.</td>\n",
              "      <td>12.02.10</td>\n",
              "      <td>74</td>\n",
              "      <td>6.4</td>\n",
              "      <td>2010</td>\n",
              "      <td>425000000.0</td>\n",
              "      <td>1.108757e+07</td>\n",
              "    </tr>\n",
              "  </tbody>\n",
              "</table>\n",
              "<p>10866 rows × 21 columns</p>\n",
              "</div>\n",
              "      <button class=\"colab-df-convert\" onclick=\"convertToInteractive('df-4907e4d7-5aea-496b-b5d3-30abf5eecb22')\"\n",
              "              title=\"Convert this dataframe to an interactive table.\"\n",
              "              style=\"display:none;\">\n",
              "        \n",
              "  <svg xmlns=\"http://www.w3.org/2000/svg\" height=\"24px\"viewBox=\"0 0 24 24\"\n",
              "       width=\"24px\">\n",
              "    <path d=\"M0 0h24v24H0V0z\" fill=\"none\"/>\n",
              "    <path d=\"M18.56 5.44l.94 2.06.94-2.06 2.06-.94-2.06-.94-.94-2.06-.94 2.06-2.06.94zm-11 1L8.5 8.5l.94-2.06 2.06-.94-2.06-.94L8.5 2.5l-.94 2.06-2.06.94zm10 10l.94 2.06.94-2.06 2.06-.94-2.06-.94-.94-2.06-.94 2.06-2.06.94z\"/><path d=\"M17.41 7.96l-1.37-1.37c-.4-.4-.92-.59-1.43-.59-.52 0-1.04.2-1.43.59L10.3 9.45l-7.72 7.72c-.78.78-.78 2.05 0 2.83L4 21.41c.39.39.9.59 1.41.59.51 0 1.02-.2 1.41-.59l7.78-7.78 2.81-2.81c.8-.78.8-2.07 0-2.86zM5.41 20L4 18.59l7.72-7.72 1.47 1.35L5.41 20z\"/>\n",
              "  </svg>\n",
              "      </button>\n",
              "      \n",
              "  <style>\n",
              "    .colab-df-container {\n",
              "      display:flex;\n",
              "      flex-wrap:wrap;\n",
              "      gap: 12px;\n",
              "    }\n",
              "\n",
              "    .colab-df-convert {\n",
              "      background-color: #E8F0FE;\n",
              "      border: none;\n",
              "      border-radius: 50%;\n",
              "      cursor: pointer;\n",
              "      display: none;\n",
              "      fill: #1967D2;\n",
              "      height: 32px;\n",
              "      padding: 0 0 0 0;\n",
              "      width: 32px;\n",
              "    }\n",
              "\n",
              "    .colab-df-convert:hover {\n",
              "      background-color: #E2EBFA;\n",
              "      box-shadow: 0px 1px 2px rgba(60, 64, 67, 0.3), 0px 1px 3px 1px rgba(60, 64, 67, 0.15);\n",
              "      fill: #174EA6;\n",
              "    }\n",
              "\n",
              "    [theme=dark] .colab-df-convert {\n",
              "      background-color: #3B4455;\n",
              "      fill: #D2E3FC;\n",
              "    }\n",
              "\n",
              "    [theme=dark] .colab-df-convert:hover {\n",
              "      background-color: #434B5C;\n",
              "      box-shadow: 0px 1px 3px 1px rgba(0, 0, 0, 0.15);\n",
              "      filter: drop-shadow(0px 1px 2px rgba(0, 0, 0, 0.3));\n",
              "      fill: #FFFFFF;\n",
              "    }\n",
              "  </style>\n",
              "\n",
              "      <script>\n",
              "        const buttonEl =\n",
              "          document.querySelector('#df-4907e4d7-5aea-496b-b5d3-30abf5eecb22 button.colab-df-convert');\n",
              "        buttonEl.style.display =\n",
              "          google.colab.kernel.accessAllowed ? 'block' : 'none';\n",
              "\n",
              "        async function convertToInteractive(key) {\n",
              "          const element = document.querySelector('#df-4907e4d7-5aea-496b-b5d3-30abf5eecb22');\n",
              "          const dataTable =\n",
              "            await google.colab.kernel.invokeFunction('convertToInteractive',\n",
              "                                                     [key], {});\n",
              "          if (!dataTable) return;\n",
              "\n",
              "          const docLinkHtml = 'Like what you see? Visit the ' +\n",
              "            '<a target=\"_blank\" href=https://colab.research.google.com/notebooks/data_table.ipynb>data table notebook</a>'\n",
              "            + ' to learn more about interactive tables.';\n",
              "          element.innerHTML = '';\n",
              "          dataTable['output_type'] = 'display_data';\n",
              "          await google.colab.output.renderOutput(dataTable, element);\n",
              "          const docLink = document.createElement('div');\n",
              "          docLink.innerHTML = docLinkHtml;\n",
              "          element.appendChild(docLink);\n",
              "        }\n",
              "      </script>\n",
              "    </div>\n",
              "  </div>\n",
              "  "
            ]
          },
          "metadata": {},
          "execution_count": 392
        }
      ]
    },
    {
      "cell_type": "code",
      "source": [
        "#This code shows the columns of the data frame of out data\n",
        "df.columns\n"
      ],
      "metadata": {
        "colab": {
          "base_uri": "https://localhost:8080/"
        },
        "id": "YYF2vt14ZPSF",
        "outputId": "437613fa-3759-4b99-8049-acfb6ef541f8"
      },
      "execution_count": 393,
      "outputs": [
        {
          "output_type": "execute_result",
          "data": {
            "text/plain": [
              "Index(['id', 'imdb_id', 'popularity', 'budget', 'revenue', 'original_title',\n",
              "       'cast', 'homepage', 'director', 'tagline', 'keywords', 'overview',\n",
              "       'runtime', 'genres', 'production_companies', 'release_date',\n",
              "       'vote_count', 'vote_average', 'release_year', 'budget_adj',\n",
              "       'revenue_adj'],\n",
              "      dtype='object')"
            ]
          },
          "metadata": {},
          "execution_count": 393
        }
      ]
    },
    {
      "cell_type": "code",
      "source": [
        "#From this code we drop the unused columns that we do not require for our analysis\n",
        "df.drop(['imdb_id', 'id', 'popularity', 'original_title',\n",
        "       'cast', 'homepage', 'director', 'tagline', 'keywords', 'overview',\n",
        "       'runtime', 'genres', 'production_companies','release_date',\n",
        "       'vote_count', 'vote_average'],axis = 1, inplace=True)"
      ],
      "metadata": {
        "id": "uVj9beDiZpJb"
      },
      "execution_count": 394,
      "outputs": []
    },
    {
      "cell_type": "code",
      "source": [
        "#To ensure we have the right data types for the analysis we check the types of data that are contained in the columns\n",
        "df.dtypes"
      ],
      "metadata": {
        "colab": {
          "base_uri": "https://localhost:8080/"
        },
        "id": "Qxhy5EpMaYFj",
        "outputId": "b830d717-31f7-41bc-d1ba-bdf8e96bc0ba"
      },
      "execution_count": 395,
      "outputs": [
        {
          "output_type": "execute_result",
          "data": {
            "text/plain": [
              "budget            int64\n",
              "revenue           int64\n",
              "release_year      int64\n",
              "budget_adj      float64\n",
              "revenue_adj     float64\n",
              "dtype: object"
            ]
          },
          "metadata": {},
          "execution_count": 395
        }
      ]
    },
    {
      "cell_type": "code",
      "source": [
        "#Just a quick check to see how everything is going\n",
        "df"
      ],
      "metadata": {
        "id": "vCdkCVgRfZBp",
        "outputId": "eb894e9a-a536-4267-f356-27ac0af4d34c",
        "colab": {
          "base_uri": "https://localhost:8080/",
          "height": 424
        }
      },
      "execution_count": 396,
      "outputs": [
        {
          "output_type": "execute_result",
          "data": {
            "text/plain": [
              "          budget     revenue  release_year   budget_adj   revenue_adj\n",
              "0              0    29355203          2015          0.0  2.700677e+07\n",
              "1              0    22354572          2015          0.0  2.056620e+07\n",
              "2              0       45895          2015          0.0  4.222338e+04\n",
              "3              0           0          2015          0.0  0.000000e+00\n",
              "4              0           0          2015          0.0  0.000000e+00\n",
              "...          ...         ...           ...          ...           ...\n",
              "10861  270000000   391081192          2006  292050672.7  4.230205e+08\n",
              "10862  280000000  1405035767          2015  257599886.7  1.292632e+09\n",
              "10863  300000000   961000000          2007  315500574.8  1.010654e+09\n",
              "10864  380000000  1021683000          2011  368371256.2  9.904175e+08\n",
              "10865  425000000    11087569          2010  425000000.0  1.108757e+07\n",
              "\n",
              "[10866 rows x 5 columns]"
            ],
            "text/html": [
              "\n",
              "  <div id=\"df-185c8a56-18fc-4731-b2b1-525efbe53245\">\n",
              "    <div class=\"colab-df-container\">\n",
              "      <div>\n",
              "<style scoped>\n",
              "    .dataframe tbody tr th:only-of-type {\n",
              "        vertical-align: middle;\n",
              "    }\n",
              "\n",
              "    .dataframe tbody tr th {\n",
              "        vertical-align: top;\n",
              "    }\n",
              "\n",
              "    .dataframe thead th {\n",
              "        text-align: right;\n",
              "    }\n",
              "</style>\n",
              "<table border=\"1\" class=\"dataframe\">\n",
              "  <thead>\n",
              "    <tr style=\"text-align: right;\">\n",
              "      <th></th>\n",
              "      <th>budget</th>\n",
              "      <th>revenue</th>\n",
              "      <th>release_year</th>\n",
              "      <th>budget_adj</th>\n",
              "      <th>revenue_adj</th>\n",
              "    </tr>\n",
              "  </thead>\n",
              "  <tbody>\n",
              "    <tr>\n",
              "      <th>0</th>\n",
              "      <td>0</td>\n",
              "      <td>29355203</td>\n",
              "      <td>2015</td>\n",
              "      <td>0.0</td>\n",
              "      <td>2.700677e+07</td>\n",
              "    </tr>\n",
              "    <tr>\n",
              "      <th>1</th>\n",
              "      <td>0</td>\n",
              "      <td>22354572</td>\n",
              "      <td>2015</td>\n",
              "      <td>0.0</td>\n",
              "      <td>2.056620e+07</td>\n",
              "    </tr>\n",
              "    <tr>\n",
              "      <th>2</th>\n",
              "      <td>0</td>\n",
              "      <td>45895</td>\n",
              "      <td>2015</td>\n",
              "      <td>0.0</td>\n",
              "      <td>4.222338e+04</td>\n",
              "    </tr>\n",
              "    <tr>\n",
              "      <th>3</th>\n",
              "      <td>0</td>\n",
              "      <td>0</td>\n",
              "      <td>2015</td>\n",
              "      <td>0.0</td>\n",
              "      <td>0.000000e+00</td>\n",
              "    </tr>\n",
              "    <tr>\n",
              "      <th>4</th>\n",
              "      <td>0</td>\n",
              "      <td>0</td>\n",
              "      <td>2015</td>\n",
              "      <td>0.0</td>\n",
              "      <td>0.000000e+00</td>\n",
              "    </tr>\n",
              "    <tr>\n",
              "      <th>...</th>\n",
              "      <td>...</td>\n",
              "      <td>...</td>\n",
              "      <td>...</td>\n",
              "      <td>...</td>\n",
              "      <td>...</td>\n",
              "    </tr>\n",
              "    <tr>\n",
              "      <th>10861</th>\n",
              "      <td>270000000</td>\n",
              "      <td>391081192</td>\n",
              "      <td>2006</td>\n",
              "      <td>292050672.7</td>\n",
              "      <td>4.230205e+08</td>\n",
              "    </tr>\n",
              "    <tr>\n",
              "      <th>10862</th>\n",
              "      <td>280000000</td>\n",
              "      <td>1405035767</td>\n",
              "      <td>2015</td>\n",
              "      <td>257599886.7</td>\n",
              "      <td>1.292632e+09</td>\n",
              "    </tr>\n",
              "    <tr>\n",
              "      <th>10863</th>\n",
              "      <td>300000000</td>\n",
              "      <td>961000000</td>\n",
              "      <td>2007</td>\n",
              "      <td>315500574.8</td>\n",
              "      <td>1.010654e+09</td>\n",
              "    </tr>\n",
              "    <tr>\n",
              "      <th>10864</th>\n",
              "      <td>380000000</td>\n",
              "      <td>1021683000</td>\n",
              "      <td>2011</td>\n",
              "      <td>368371256.2</td>\n",
              "      <td>9.904175e+08</td>\n",
              "    </tr>\n",
              "    <tr>\n",
              "      <th>10865</th>\n",
              "      <td>425000000</td>\n",
              "      <td>11087569</td>\n",
              "      <td>2010</td>\n",
              "      <td>425000000.0</td>\n",
              "      <td>1.108757e+07</td>\n",
              "    </tr>\n",
              "  </tbody>\n",
              "</table>\n",
              "<p>10866 rows × 5 columns</p>\n",
              "</div>\n",
              "      <button class=\"colab-df-convert\" onclick=\"convertToInteractive('df-185c8a56-18fc-4731-b2b1-525efbe53245')\"\n",
              "              title=\"Convert this dataframe to an interactive table.\"\n",
              "              style=\"display:none;\">\n",
              "        \n",
              "  <svg xmlns=\"http://www.w3.org/2000/svg\" height=\"24px\"viewBox=\"0 0 24 24\"\n",
              "       width=\"24px\">\n",
              "    <path d=\"M0 0h24v24H0V0z\" fill=\"none\"/>\n",
              "    <path d=\"M18.56 5.44l.94 2.06.94-2.06 2.06-.94-2.06-.94-.94-2.06-.94 2.06-2.06.94zm-11 1L8.5 8.5l.94-2.06 2.06-.94-2.06-.94L8.5 2.5l-.94 2.06-2.06.94zm10 10l.94 2.06.94-2.06 2.06-.94-2.06-.94-.94-2.06-.94 2.06-2.06.94z\"/><path d=\"M17.41 7.96l-1.37-1.37c-.4-.4-.92-.59-1.43-.59-.52 0-1.04.2-1.43.59L10.3 9.45l-7.72 7.72c-.78.78-.78 2.05 0 2.83L4 21.41c.39.39.9.59 1.41.59.51 0 1.02-.2 1.41-.59l7.78-7.78 2.81-2.81c.8-.78.8-2.07 0-2.86zM5.41 20L4 18.59l7.72-7.72 1.47 1.35L5.41 20z\"/>\n",
              "  </svg>\n",
              "      </button>\n",
              "      \n",
              "  <style>\n",
              "    .colab-df-container {\n",
              "      display:flex;\n",
              "      flex-wrap:wrap;\n",
              "      gap: 12px;\n",
              "    }\n",
              "\n",
              "    .colab-df-convert {\n",
              "      background-color: #E8F0FE;\n",
              "      border: none;\n",
              "      border-radius: 50%;\n",
              "      cursor: pointer;\n",
              "      display: none;\n",
              "      fill: #1967D2;\n",
              "      height: 32px;\n",
              "      padding: 0 0 0 0;\n",
              "      width: 32px;\n",
              "    }\n",
              "\n",
              "    .colab-df-convert:hover {\n",
              "      background-color: #E2EBFA;\n",
              "      box-shadow: 0px 1px 2px rgba(60, 64, 67, 0.3), 0px 1px 3px 1px rgba(60, 64, 67, 0.15);\n",
              "      fill: #174EA6;\n",
              "    }\n",
              "\n",
              "    [theme=dark] .colab-df-convert {\n",
              "      background-color: #3B4455;\n",
              "      fill: #D2E3FC;\n",
              "    }\n",
              "\n",
              "    [theme=dark] .colab-df-convert:hover {\n",
              "      background-color: #434B5C;\n",
              "      box-shadow: 0px 1px 3px 1px rgba(0, 0, 0, 0.15);\n",
              "      filter: drop-shadow(0px 1px 2px rgba(0, 0, 0, 0.3));\n",
              "      fill: #FFFFFF;\n",
              "    }\n",
              "  </style>\n",
              "\n",
              "      <script>\n",
              "        const buttonEl =\n",
              "          document.querySelector('#df-185c8a56-18fc-4731-b2b1-525efbe53245 button.colab-df-convert');\n",
              "        buttonEl.style.display =\n",
              "          google.colab.kernel.accessAllowed ? 'block' : 'none';\n",
              "\n",
              "        async function convertToInteractive(key) {\n",
              "          const element = document.querySelector('#df-185c8a56-18fc-4731-b2b1-525efbe53245');\n",
              "          const dataTable =\n",
              "            await google.colab.kernel.invokeFunction('convertToInteractive',\n",
              "                                                     [key], {});\n",
              "          if (!dataTable) return;\n",
              "\n",
              "          const docLinkHtml = 'Like what you see? Visit the ' +\n",
              "            '<a target=\"_blank\" href=https://colab.research.google.com/notebooks/data_table.ipynb>data table notebook</a>'\n",
              "            + ' to learn more about interactive tables.';\n",
              "          element.innerHTML = '';\n",
              "          dataTable['output_type'] = 'display_data';\n",
              "          await google.colab.output.renderOutput(dataTable, element);\n",
              "          const docLink = document.createElement('div');\n",
              "          docLink.innerHTML = docLinkHtml;\n",
              "          element.appendChild(docLink);\n",
              "        }\n",
              "      </script>\n",
              "    </div>\n",
              "  </div>\n",
              "  "
            ]
          },
          "metadata": {},
          "execution_count": 396
        }
      ]
    },
    {
      "cell_type": "code",
      "source": [
        "#Now we drop and replace all values that represent 0, with a Nan value, which we then drop all at once. The reason for this is that it is impossible\n",
        "#for a movie to have absolutely 0 units of budgets, as well as it being unrealistic to assume that any movie created and judged by IMDB has a revenue of 0.\n",
        "\n",
        "df = df.replace([np.inf, -np.inf, 0], np.nan)\n",
        "\n",
        "\n",
        "df = df.dropna(axis = 0)\n",
        "\n",
        "df\n"
      ],
      "metadata": {
        "id": "Uv0TLlpJaxBs",
        "outputId": "d1586e9b-1437-4ca3-9539-f14cc85ec81d",
        "colab": {
          "base_uri": "https://localhost:8080/",
          "height": 424
        }
      },
      "execution_count": 397,
      "outputs": [
        {
          "output_type": "execute_result",
          "data": {
            "text/plain": [
              "            budget       revenue  release_year    budget_adj   revenue_adj\n",
              "5697           1.0  1.000000e+02        1999.0  1.309053e+00  1.309053e+02\n",
              "5699           1.0  1.378000e+03        2011.0  9.693980e-01  1.335831e+03\n",
              "5700           2.0  1.600000e+01        1982.0  4.519285e+00  3.615428e+01\n",
              "5701           3.0  4.300000e+01        2010.0  3.000000e+00  4.300000e+01\n",
              "5703           3.0  1.600000e+01        1990.0  5.006696e+00  2.670238e+01\n",
              "...            ...           ...           ...           ...           ...\n",
              "10861  270000000.0  3.910812e+08        2006.0  2.920507e+08  4.230205e+08\n",
              "10862  280000000.0  1.405036e+09        2015.0  2.575999e+08  1.292632e+09\n",
              "10863  300000000.0  9.610000e+08        2007.0  3.155006e+08  1.010654e+09\n",
              "10864  380000000.0  1.021683e+09        2011.0  3.683713e+08  9.904175e+08\n",
              "10865  425000000.0  1.108757e+07        2010.0  4.250000e+08  1.108757e+07\n",
              "\n",
              "[3855 rows x 5 columns]"
            ],
            "text/html": [
              "\n",
              "  <div id=\"df-3adcf42d-e26f-48c3-a698-86251f3a2cf9\">\n",
              "    <div class=\"colab-df-container\">\n",
              "      <div>\n",
              "<style scoped>\n",
              "    .dataframe tbody tr th:only-of-type {\n",
              "        vertical-align: middle;\n",
              "    }\n",
              "\n",
              "    .dataframe tbody tr th {\n",
              "        vertical-align: top;\n",
              "    }\n",
              "\n",
              "    .dataframe thead th {\n",
              "        text-align: right;\n",
              "    }\n",
              "</style>\n",
              "<table border=\"1\" class=\"dataframe\">\n",
              "  <thead>\n",
              "    <tr style=\"text-align: right;\">\n",
              "      <th></th>\n",
              "      <th>budget</th>\n",
              "      <th>revenue</th>\n",
              "      <th>release_year</th>\n",
              "      <th>budget_adj</th>\n",
              "      <th>revenue_adj</th>\n",
              "    </tr>\n",
              "  </thead>\n",
              "  <tbody>\n",
              "    <tr>\n",
              "      <th>5697</th>\n",
              "      <td>1.0</td>\n",
              "      <td>1.000000e+02</td>\n",
              "      <td>1999.0</td>\n",
              "      <td>1.309053e+00</td>\n",
              "      <td>1.309053e+02</td>\n",
              "    </tr>\n",
              "    <tr>\n",
              "      <th>5699</th>\n",
              "      <td>1.0</td>\n",
              "      <td>1.378000e+03</td>\n",
              "      <td>2011.0</td>\n",
              "      <td>9.693980e-01</td>\n",
              "      <td>1.335831e+03</td>\n",
              "    </tr>\n",
              "    <tr>\n",
              "      <th>5700</th>\n",
              "      <td>2.0</td>\n",
              "      <td>1.600000e+01</td>\n",
              "      <td>1982.0</td>\n",
              "      <td>4.519285e+00</td>\n",
              "      <td>3.615428e+01</td>\n",
              "    </tr>\n",
              "    <tr>\n",
              "      <th>5701</th>\n",
              "      <td>3.0</td>\n",
              "      <td>4.300000e+01</td>\n",
              "      <td>2010.0</td>\n",
              "      <td>3.000000e+00</td>\n",
              "      <td>4.300000e+01</td>\n",
              "    </tr>\n",
              "    <tr>\n",
              "      <th>5703</th>\n",
              "      <td>3.0</td>\n",
              "      <td>1.600000e+01</td>\n",
              "      <td>1990.0</td>\n",
              "      <td>5.006696e+00</td>\n",
              "      <td>2.670238e+01</td>\n",
              "    </tr>\n",
              "    <tr>\n",
              "      <th>...</th>\n",
              "      <td>...</td>\n",
              "      <td>...</td>\n",
              "      <td>...</td>\n",
              "      <td>...</td>\n",
              "      <td>...</td>\n",
              "    </tr>\n",
              "    <tr>\n",
              "      <th>10861</th>\n",
              "      <td>270000000.0</td>\n",
              "      <td>3.910812e+08</td>\n",
              "      <td>2006.0</td>\n",
              "      <td>2.920507e+08</td>\n",
              "      <td>4.230205e+08</td>\n",
              "    </tr>\n",
              "    <tr>\n",
              "      <th>10862</th>\n",
              "      <td>280000000.0</td>\n",
              "      <td>1.405036e+09</td>\n",
              "      <td>2015.0</td>\n",
              "      <td>2.575999e+08</td>\n",
              "      <td>1.292632e+09</td>\n",
              "    </tr>\n",
              "    <tr>\n",
              "      <th>10863</th>\n",
              "      <td>300000000.0</td>\n",
              "      <td>9.610000e+08</td>\n",
              "      <td>2007.0</td>\n",
              "      <td>3.155006e+08</td>\n",
              "      <td>1.010654e+09</td>\n",
              "    </tr>\n",
              "    <tr>\n",
              "      <th>10864</th>\n",
              "      <td>380000000.0</td>\n",
              "      <td>1.021683e+09</td>\n",
              "      <td>2011.0</td>\n",
              "      <td>3.683713e+08</td>\n",
              "      <td>9.904175e+08</td>\n",
              "    </tr>\n",
              "    <tr>\n",
              "      <th>10865</th>\n",
              "      <td>425000000.0</td>\n",
              "      <td>1.108757e+07</td>\n",
              "      <td>2010.0</td>\n",
              "      <td>4.250000e+08</td>\n",
              "      <td>1.108757e+07</td>\n",
              "    </tr>\n",
              "  </tbody>\n",
              "</table>\n",
              "<p>3855 rows × 5 columns</p>\n",
              "</div>\n",
              "      <button class=\"colab-df-convert\" onclick=\"convertToInteractive('df-3adcf42d-e26f-48c3-a698-86251f3a2cf9')\"\n",
              "              title=\"Convert this dataframe to an interactive table.\"\n",
              "              style=\"display:none;\">\n",
              "        \n",
              "  <svg xmlns=\"http://www.w3.org/2000/svg\" height=\"24px\"viewBox=\"0 0 24 24\"\n",
              "       width=\"24px\">\n",
              "    <path d=\"M0 0h24v24H0V0z\" fill=\"none\"/>\n",
              "    <path d=\"M18.56 5.44l.94 2.06.94-2.06 2.06-.94-2.06-.94-.94-2.06-.94 2.06-2.06.94zm-11 1L8.5 8.5l.94-2.06 2.06-.94-2.06-.94L8.5 2.5l-.94 2.06-2.06.94zm10 10l.94 2.06.94-2.06 2.06-.94-2.06-.94-.94-2.06-.94 2.06-2.06.94z\"/><path d=\"M17.41 7.96l-1.37-1.37c-.4-.4-.92-.59-1.43-.59-.52 0-1.04.2-1.43.59L10.3 9.45l-7.72 7.72c-.78.78-.78 2.05 0 2.83L4 21.41c.39.39.9.59 1.41.59.51 0 1.02-.2 1.41-.59l7.78-7.78 2.81-2.81c.8-.78.8-2.07 0-2.86zM5.41 20L4 18.59l7.72-7.72 1.47 1.35L5.41 20z\"/>\n",
              "  </svg>\n",
              "      </button>\n",
              "      \n",
              "  <style>\n",
              "    .colab-df-container {\n",
              "      display:flex;\n",
              "      flex-wrap:wrap;\n",
              "      gap: 12px;\n",
              "    }\n",
              "\n",
              "    .colab-df-convert {\n",
              "      background-color: #E8F0FE;\n",
              "      border: none;\n",
              "      border-radius: 50%;\n",
              "      cursor: pointer;\n",
              "      display: none;\n",
              "      fill: #1967D2;\n",
              "      height: 32px;\n",
              "      padding: 0 0 0 0;\n",
              "      width: 32px;\n",
              "    }\n",
              "\n",
              "    .colab-df-convert:hover {\n",
              "      background-color: #E2EBFA;\n",
              "      box-shadow: 0px 1px 2px rgba(60, 64, 67, 0.3), 0px 1px 3px 1px rgba(60, 64, 67, 0.15);\n",
              "      fill: #174EA6;\n",
              "    }\n",
              "\n",
              "    [theme=dark] .colab-df-convert {\n",
              "      background-color: #3B4455;\n",
              "      fill: #D2E3FC;\n",
              "    }\n",
              "\n",
              "    [theme=dark] .colab-df-convert:hover {\n",
              "      background-color: #434B5C;\n",
              "      box-shadow: 0px 1px 3px 1px rgba(0, 0, 0, 0.15);\n",
              "      filter: drop-shadow(0px 1px 2px rgba(0, 0, 0, 0.3));\n",
              "      fill: #FFFFFF;\n",
              "    }\n",
              "  </style>\n",
              "\n",
              "      <script>\n",
              "        const buttonEl =\n",
              "          document.querySelector('#df-3adcf42d-e26f-48c3-a698-86251f3a2cf9 button.colab-df-convert');\n",
              "        buttonEl.style.display =\n",
              "          google.colab.kernel.accessAllowed ? 'block' : 'none';\n",
              "\n",
              "        async function convertToInteractive(key) {\n",
              "          const element = document.querySelector('#df-3adcf42d-e26f-48c3-a698-86251f3a2cf9');\n",
              "          const dataTable =\n",
              "            await google.colab.kernel.invokeFunction('convertToInteractive',\n",
              "                                                     [key], {});\n",
              "          if (!dataTable) return;\n",
              "\n",
              "          const docLinkHtml = 'Like what you see? Visit the ' +\n",
              "            '<a target=\"_blank\" href=https://colab.research.google.com/notebooks/data_table.ipynb>data table notebook</a>'\n",
              "            + ' to learn more about interactive tables.';\n",
              "          element.innerHTML = '';\n",
              "          dataTable['output_type'] = 'display_data';\n",
              "          await google.colab.output.renderOutput(dataTable, element);\n",
              "          const docLink = document.createElement('div');\n",
              "          docLink.innerHTML = docLinkHtml;\n",
              "          element.appendChild(docLink);\n",
              "        }\n",
              "      </script>\n",
              "    </div>\n",
              "  </div>\n",
              "  "
            ]
          },
          "metadata": {},
          "execution_count": 397
        }
      ]
    },
    {
      "cell_type": "code",
      "source": [
        "#Here we creaeted a string check that looks through all the columns and from there on decides if the value it identifies is a string or not.\n",
        "#If it is a string then that data point will be dropped from the data frame.\n",
        "#Once all the strings are removed from the data frame then the code will return a \"success\" message.\n",
        "def str_check(column): \n",
        "  for i in range(1, len(df.budget)):\n",
        "    if df.loc(i,) == str:\n",
        "\n",
        "      df.replace(df.id(i), np.nan)\n",
        "      df.dropna(how='all', axis=0)\n",
        "      df\n",
        "\n",
        "    else:\n",
        "\n",
        "      return print(\"success\")\n",
        "\n",
        "def column_list():\n",
        "\n",
        "  dict_column = {\n",
        "      1:\"id\", 2:\"budget\", 3:\"revenue\", 4:\"release_year\", 5:\"budget_adj\", 6:\"revenue_adj\"\n",
        "      }\n",
        "\n",
        "  for i in range (1,6):\n",
        "    str_check(dict_column[i])\n",
        "    return \n",
        "\n",
        "\n",
        "\n",
        "column_list()"
      ],
      "metadata": {
        "id": "k4w_7L8Ocys6",
        "outputId": "a1361814-6145-4b7f-def2-e8e04c675b7d",
        "colab": {
          "base_uri": "https://localhost:8080/"
        }
      },
      "execution_count": 398,
      "outputs": [
        {
          "output_type": "stream",
          "name": "stdout",
          "text": [
            "success\n"
          ]
        }
      ]
    },
    {
      "cell_type": "markdown",
      "source": [
        "With this success we have made our Data sqeuky clean and it is ready to be vizualised :)"
      ],
      "metadata": {
        "id": "PpT1mdWZf7m8"
      }
    },
    {
      "cell_type": "markdown",
      "source": [
        "# Vizualisation"
      ],
      "metadata": {
        "id": "9TpM4zC4f3bg"
      }
    },
    {
      "cell_type": "code",
      "source": [
        "##Description of the current data frame, with most important statistics for each column\n",
        "df.describe()"
      ],
      "metadata": {
        "id": "v-uZu0OGgjbN",
        "outputId": "2826d784-a598-431e-8b1c-6c99678e2b91",
        "colab": {
          "base_uri": "https://localhost:8080/",
          "height": 300
        }
      },
      "execution_count": 399,
      "outputs": [
        {
          "output_type": "execute_result",
          "data": {
            "text/plain": [
              "             budget       revenue  release_year    budget_adj   revenue_adj\n",
              "count  3.855000e+03  3.855000e+03   3855.000000  3.855000e+03  3.855000e+03\n",
              "mean   3.720183e+07  1.076589e+08   2001.263294  4.423630e+07  1.370294e+08\n",
              "std    4.220291e+07  1.765248e+08     11.281989  4.480403e+07  2.160944e+08\n",
              "min    1.000000e+00  2.000000e+00   1960.000000  9.693980e-01  2.370705e+00\n",
              "25%    1.000000e+07  1.357645e+07   1995.000000  1.309053e+07  1.834123e+07\n",
              "50%    2.400000e+07  4.479322e+07   2004.000000  3.001558e+07  6.171861e+07\n",
              "75%    5.000000e+07  1.241530e+08   2010.000000  6.061307e+07  1.632401e+08\n",
              "max    4.250000e+08  2.781506e+09   2015.000000  4.250000e+08  2.827124e+09"
            ],
            "text/html": [
              "\n",
              "  <div id=\"df-14d49944-8664-4727-aac2-4f35934b2a1d\">\n",
              "    <div class=\"colab-df-container\">\n",
              "      <div>\n",
              "<style scoped>\n",
              "    .dataframe tbody tr th:only-of-type {\n",
              "        vertical-align: middle;\n",
              "    }\n",
              "\n",
              "    .dataframe tbody tr th {\n",
              "        vertical-align: top;\n",
              "    }\n",
              "\n",
              "    .dataframe thead th {\n",
              "        text-align: right;\n",
              "    }\n",
              "</style>\n",
              "<table border=\"1\" class=\"dataframe\">\n",
              "  <thead>\n",
              "    <tr style=\"text-align: right;\">\n",
              "      <th></th>\n",
              "      <th>budget</th>\n",
              "      <th>revenue</th>\n",
              "      <th>release_year</th>\n",
              "      <th>budget_adj</th>\n",
              "      <th>revenue_adj</th>\n",
              "    </tr>\n",
              "  </thead>\n",
              "  <tbody>\n",
              "    <tr>\n",
              "      <th>count</th>\n",
              "      <td>3.855000e+03</td>\n",
              "      <td>3.855000e+03</td>\n",
              "      <td>3855.000000</td>\n",
              "      <td>3.855000e+03</td>\n",
              "      <td>3.855000e+03</td>\n",
              "    </tr>\n",
              "    <tr>\n",
              "      <th>mean</th>\n",
              "      <td>3.720183e+07</td>\n",
              "      <td>1.076589e+08</td>\n",
              "      <td>2001.263294</td>\n",
              "      <td>4.423630e+07</td>\n",
              "      <td>1.370294e+08</td>\n",
              "    </tr>\n",
              "    <tr>\n",
              "      <th>std</th>\n",
              "      <td>4.220291e+07</td>\n",
              "      <td>1.765248e+08</td>\n",
              "      <td>11.281989</td>\n",
              "      <td>4.480403e+07</td>\n",
              "      <td>2.160944e+08</td>\n",
              "    </tr>\n",
              "    <tr>\n",
              "      <th>min</th>\n",
              "      <td>1.000000e+00</td>\n",
              "      <td>2.000000e+00</td>\n",
              "      <td>1960.000000</td>\n",
              "      <td>9.693980e-01</td>\n",
              "      <td>2.370705e+00</td>\n",
              "    </tr>\n",
              "    <tr>\n",
              "      <th>25%</th>\n",
              "      <td>1.000000e+07</td>\n",
              "      <td>1.357645e+07</td>\n",
              "      <td>1995.000000</td>\n",
              "      <td>1.309053e+07</td>\n",
              "      <td>1.834123e+07</td>\n",
              "    </tr>\n",
              "    <tr>\n",
              "      <th>50%</th>\n",
              "      <td>2.400000e+07</td>\n",
              "      <td>4.479322e+07</td>\n",
              "      <td>2004.000000</td>\n",
              "      <td>3.001558e+07</td>\n",
              "      <td>6.171861e+07</td>\n",
              "    </tr>\n",
              "    <tr>\n",
              "      <th>75%</th>\n",
              "      <td>5.000000e+07</td>\n",
              "      <td>1.241530e+08</td>\n",
              "      <td>2010.000000</td>\n",
              "      <td>6.061307e+07</td>\n",
              "      <td>1.632401e+08</td>\n",
              "    </tr>\n",
              "    <tr>\n",
              "      <th>max</th>\n",
              "      <td>4.250000e+08</td>\n",
              "      <td>2.781506e+09</td>\n",
              "      <td>2015.000000</td>\n",
              "      <td>4.250000e+08</td>\n",
              "      <td>2.827124e+09</td>\n",
              "    </tr>\n",
              "  </tbody>\n",
              "</table>\n",
              "</div>\n",
              "      <button class=\"colab-df-convert\" onclick=\"convertToInteractive('df-14d49944-8664-4727-aac2-4f35934b2a1d')\"\n",
              "              title=\"Convert this dataframe to an interactive table.\"\n",
              "              style=\"display:none;\">\n",
              "        \n",
              "  <svg xmlns=\"http://www.w3.org/2000/svg\" height=\"24px\"viewBox=\"0 0 24 24\"\n",
              "       width=\"24px\">\n",
              "    <path d=\"M0 0h24v24H0V0z\" fill=\"none\"/>\n",
              "    <path d=\"M18.56 5.44l.94 2.06.94-2.06 2.06-.94-2.06-.94-.94-2.06-.94 2.06-2.06.94zm-11 1L8.5 8.5l.94-2.06 2.06-.94-2.06-.94L8.5 2.5l-.94 2.06-2.06.94zm10 10l.94 2.06.94-2.06 2.06-.94-2.06-.94-.94-2.06-.94 2.06-2.06.94z\"/><path d=\"M17.41 7.96l-1.37-1.37c-.4-.4-.92-.59-1.43-.59-.52 0-1.04.2-1.43.59L10.3 9.45l-7.72 7.72c-.78.78-.78 2.05 0 2.83L4 21.41c.39.39.9.59 1.41.59.51 0 1.02-.2 1.41-.59l7.78-7.78 2.81-2.81c.8-.78.8-2.07 0-2.86zM5.41 20L4 18.59l7.72-7.72 1.47 1.35L5.41 20z\"/>\n",
              "  </svg>\n",
              "      </button>\n",
              "      \n",
              "  <style>\n",
              "    .colab-df-container {\n",
              "      display:flex;\n",
              "      flex-wrap:wrap;\n",
              "      gap: 12px;\n",
              "    }\n",
              "\n",
              "    .colab-df-convert {\n",
              "      background-color: #E8F0FE;\n",
              "      border: none;\n",
              "      border-radius: 50%;\n",
              "      cursor: pointer;\n",
              "      display: none;\n",
              "      fill: #1967D2;\n",
              "      height: 32px;\n",
              "      padding: 0 0 0 0;\n",
              "      width: 32px;\n",
              "    }\n",
              "\n",
              "    .colab-df-convert:hover {\n",
              "      background-color: #E2EBFA;\n",
              "      box-shadow: 0px 1px 2px rgba(60, 64, 67, 0.3), 0px 1px 3px 1px rgba(60, 64, 67, 0.15);\n",
              "      fill: #174EA6;\n",
              "    }\n",
              "\n",
              "    [theme=dark] .colab-df-convert {\n",
              "      background-color: #3B4455;\n",
              "      fill: #D2E3FC;\n",
              "    }\n",
              "\n",
              "    [theme=dark] .colab-df-convert:hover {\n",
              "      background-color: #434B5C;\n",
              "      box-shadow: 0px 1px 3px 1px rgba(0, 0, 0, 0.15);\n",
              "      filter: drop-shadow(0px 1px 2px rgba(0, 0, 0, 0.3));\n",
              "      fill: #FFFFFF;\n",
              "    }\n",
              "  </style>\n",
              "\n",
              "      <script>\n",
              "        const buttonEl =\n",
              "          document.querySelector('#df-14d49944-8664-4727-aac2-4f35934b2a1d button.colab-df-convert');\n",
              "        buttonEl.style.display =\n",
              "          google.colab.kernel.accessAllowed ? 'block' : 'none';\n",
              "\n",
              "        async function convertToInteractive(key) {\n",
              "          const element = document.querySelector('#df-14d49944-8664-4727-aac2-4f35934b2a1d');\n",
              "          const dataTable =\n",
              "            await google.colab.kernel.invokeFunction('convertToInteractive',\n",
              "                                                     [key], {});\n",
              "          if (!dataTable) return;\n",
              "\n",
              "          const docLinkHtml = 'Like what you see? Visit the ' +\n",
              "            '<a target=\"_blank\" href=https://colab.research.google.com/notebooks/data_table.ipynb>data table notebook</a>'\n",
              "            + ' to learn more about interactive tables.';\n",
              "          element.innerHTML = '';\n",
              "          dataTable['output_type'] = 'display_data';\n",
              "          await google.colab.output.renderOutput(dataTable, element);\n",
              "          const docLink = document.createElement('div');\n",
              "          docLink.innerHTML = docLinkHtml;\n",
              "          element.appendChild(docLink);\n",
              "        }\n",
              "      </script>\n",
              "    </div>\n",
              "  </div>\n",
              "  "
            ]
          },
          "metadata": {},
          "execution_count": 399
        }
      ]
    },
    {
      "cell_type": "code",
      "source": [
        "##Line Graph of Budget vs. Revenue \n",
        "plt.plot(df[[\"budget_adj\", \"revenue_adj\"]])\n",
        "plt.title('Budget vs. Revenue')\n",
        "plt.xlabel('Revenue')\n",
        "plt.ylabel('Budget')\n",
        "plt.show()"
      ],
      "metadata": {
        "id": "G_c-MtPzl1kQ",
        "outputId": "f5084e2a-34a8-4ba7-bf6e-dd133c5d6b3f",
        "colab": {
          "base_uri": "https://localhost:8080/",
          "height": 295
        }
      },
      "execution_count": 400,
      "outputs": [
        {
          "output_type": "display_data",
          "data": {
            "text/plain": [
              "<Figure size 432x288 with 1 Axes>"
            ],
            "image/png": "[encoded data removed]"
          },
          "metadata": {
            "needs_background": "light"
          }
        }
      ]
    },
    {
      "cell_type": "code",
      "source": [
        "##Scatter plot showing the Revenue from every release year, \n",
        "##showing an increase in movies over the past 60 years, and increase in their reveune\n",
        "plt.scatter(df['release_year'], df['revenue_adj'], marker='p', s=10) \n",
        "plt.title('Revenue Vs Year', fontsize=14)\n",
        "plt.xlabel('Release Year', fontsize=14)\n",
        "plt.ylabel('Revenue', fontsize=14)\n",
        "plt.show()"
      ],
      "metadata": {
        "id": "LZ98t4zsn2s7",
        "outputId": "d3259d24-d570-413e-9453-99cd21dd4efc",
        "colab": {
          "base_uri": "https://localhost:8080/",
          "height": 300
        }
      },
      "execution_count": 401,
      "outputs": [
        {
          "output_type": "display_data",
          "data": {
            "text/plain": [
              "<Figure size 432x288 with 1 Axes>"
            ],
            "image/png": "[encoded data removed]"
          },
          "metadata": {
            "needs_background": "light"
          }
        }
      ]
    },
    {
      "cell_type": "code",
      "source": [
        "##Time Series plot of budget_adj showing the increase in budget spent on movies over the past 60 years.\n",
        "plt.scatter(df['release_year'], df['budget_adj'], marker='p', s=10) \n",
        "plt.title('Budget Vs Year', fontsize=14)\n",
        "plt.xlabel('Release Year', fontsize=14)\n",
        "plt.ylabel('Budget', fontsize=14)\n",
        "\n",
        "plt.show()"
      ],
      "metadata": {
        "colab": {
          "base_uri": "https://localhost:8080/",
          "height": 300
        },
        "id": "UmgE90w7wMNB",
        "outputId": "2d896f18-0dfd-4551-de94-ea742009e09a"
      },
      "execution_count": 402,
      "outputs": [
        {
          "output_type": "display_data",
          "data": {
            "text/plain": [
              "<Figure size 432x288 with 1 Axes>"
            ],
            "image/png": "[encoded data removed]"
          },
          "metadata": {
            "needs_background": "light"
          }
        }
      ]
    },
    {
      "cell_type": "code",
      "source": [
        "## Time Series Plot with Avergae Revenue Per year\n",
        "## We can see some Heteroscedascitiy of the Scatter plot, which becomes more exact over time\n",
        "Y_data = []\n",
        "X_data = []\n",
        "for i in range(1960,2015):\n",
        "    Y_data.append(df.loc[df['release_year'] == i, 'revenue_adj'].mean())\n",
        "    X_data.append(i)\n",
        "\n",
        "params= np.polyfit(X_data, Y_data, deg=4)\n",
        "fit = np.polyval(params, X_data)\n",
        "\n",
        "fig, ax1 = plt.subplots()\n",
        "ax1.scatter(X_data, Y_data, s=1, color='b', label='Data points')\n",
        "ax1.plot(X_data, fit, color='r', alpha=1, label='Polynomial fit')\n",
        "    \n",
        "ax1.set_title('Time Series Plot Avergae Revenue with Polynomial Fit')\n",
        "plt.xlabel('Release Year', fontsize=14)\n",
        "plt.ylabel('Average Revenue', fontsize=14)\n",
        "ax1.legend()\n",
        "plt.show()\n"
      ],
      "metadata": {
        "colab": {
          "base_uri": "https://localhost:8080/",
          "height": 299
        },
        "id": "AjfzGspI3Nd-",
        "outputId": "e9a55be7-6f3d-4f12-8f28-eb45deed5ba9"
      },
      "execution_count": 403,
      "outputs": [
        {
          "output_type": "display_data",
          "data": {
            "text/plain": [
              "<Figure size 432x288 with 1 Axes>"
            ],
            "image/png": "[encoded data removed]"
          },
          "metadata": {
            "needs_background": "light"
          }
        }
      ]
    },
    {
      "cell_type": "code",
      "source": [
        "## Time Series Plot with Avergae Budget Per year\n",
        "\n",
        "Y_data = []\n",
        "X_data = []\n",
        "for i in range(1960,2015):\n",
        "    Y_data.append(df.loc[df['release_year'] == i, 'budget_adj'].mean())\n",
        "    X_data.append(i)\n",
        "\n",
        "params= np.polyfit(X_data, Y_data, deg=4)\n",
        "fit = np.polyval(params, X_data)\n",
        "\n",
        "fig, ax1 = plt.subplots()\n",
        "ax1.scatter(X_data, Y_data, s=1, color='b', label='Data points')\n",
        "ax1.plot(X_data, fit, color='r', alpha=1, label='Polynomial fit')\n",
        "    \n",
        "ax1.set_title('Time Series Plot of Avergae Budget with Polynomial Fit')\n",
        "plt.xlabel('Release Year', fontsize=14)\n",
        "plt.ylabel('Avergae Budget', fontsize=14)\n",
        "ax1.legend()\n",
        "plt.show()"
      ],
      "metadata": {
        "colab": {
          "base_uri": "https://localhost:8080/",
          "height": 299
        },
        "id": "_zhX-xYZFQG2",
        "outputId": "f671b0a1-b5a9-400e-ac3d-9eb636c6967d"
      },
      "execution_count": 404,
      "outputs": [
        {
          "output_type": "display_data",
          "data": {
            "text/plain": [
              "<Figure size 432x288 with 1 Axes>"
            ],
            "image/png": "[encoded data removed]"
          },
          "metadata": {
            "needs_background": "light"
          }
        }
      ]
    },
    {
      "cell_type": "code",
      "source": [
        "## Scatter plot representing adjusted revneue vs. adjusted budget\n",
        "plt.scatter(df['budget_adj'], df['revenue_adj'], marker='o', s=1) \n",
        "plt.title('Revenue Vs Budget', fontsize=14)\n",
        "plt.xlabel('Budget', fontsize=14)\n",
        "plt.ylabel('Revenue', fontsize=14)\n",
        "plt.xlim(0, 2 * (10**8))\n",
        "\n",
        "plt.show()"
      ],
      "metadata": {
        "id": "ODDcJ1Jkqtpk",
        "outputId": "955268a6-17c7-484e-e922-29d1c3ebb71f",
        "colab": {
          "base_uri": "https://localhost:8080/",
          "height": 300
        }
      },
      "execution_count": 405,
      "outputs": [
        {
          "output_type": "display_data",
          "data": {
            "text/plain": [
              "<Figure size 432x288 with 1 Axes>"
            ],
            "image/png": "[encoded data removed]"
          },
          "metadata": {
            "needs_background": "light"
          }
        }
      ]
    },
    {
      "cell_type": "code",
      "source": [
        "## Two histograms plotted on top of each other to represent the frequency of how much a movie made with a certain budget\n",
        "plt.hist(df[\"revenue_adj\"], bins = 30, alpha = 0.5)\n",
        "plt.hist(df[\"budget_adj\"], bins = 30, alpha = 0.5)\n",
        "plt.xlabel('Budget and Revenue Frequency', fontsize=14)\n",
        "\n"
      ],
      "metadata": {
        "id": "Id8kSL-ZuwGF",
        "outputId": "47f30b8c-00fa-416f-ec74-48043d2887a9",
        "colab": {
          "base_uri": "https://localhost:8080/",
          "height": 301
        }
      },
      "execution_count": 406,
      "outputs": [
        {
          "output_type": "execute_result",
          "data": {
            "text/plain": [
              "Text(0.5, 0, 'Budget and Revenue Frequency')"
            ]
          },
          "metadata": {},
          "execution_count": 406
        },
        {
          "output_type": "display_data",
          "data": {
            "text/plain": [
              "<Figure size 432x288 with 1 Axes>"
            ],
            "image/png": "[encoded data removed]"
          },
          "metadata": {
            "needs_background": "light"
          }
        }
      ]
    },
    {
      "cell_type": "code",
      "source": [
        "## Heat map representing the correlation of all different variables agaisnt each other.\n",
        "## We see that the adjustment of budget and revnue works as thesea re highly correlated\n",
        "## Additonally we see a correlation present between adjusted bduget and adjusted revenue.\n",
        "corr = df.corr()\n",
        "corr\n",
        "figure = plt.figure(figsize=(5,5)) \n",
        "sns.heatmap(corr, cmap=\"coolwarm\", annot=True, fmt=\"0.2f\")"
      ],
      "metadata": {
        "id": "SpjVrtOnu28j",
        "outputId": "33761ad0-07db-4bda-bf62-fe48eecd50d1",
        "colab": {
          "base_uri": "https://localhost:8080/",
          "height": 395
        }
      },
      "execution_count": 407,
      "outputs": [
        {
          "output_type": "execute_result",
          "data": {
            "text/plain": [
              "<matplotlib.axes._subplots.AxesSubplot at 0x7f672c805090>"
            ]
          },
          "metadata": {},
          "execution_count": 407
        },
        {
          "output_type": "display_data",
          "data": {
            "text/plain": [
              "<Figure size 360x360 with 2 Axes>"
            ],
            "image/png": "[encoded data removed]"
          },
          "metadata": {
            "needs_background": "light"
          }
        }
      ]
    },
    {
      "cell_type": "code",
      "source": [
        "#T-test and OLS Regression: Budget_adj vs. revenue_adj\n",
        "\n",
        "x = df[\"budget_adj\"]\n",
        "y = df[\"revenue_adj\"]\n",
        "\n",
        "x2 = sm.add_constant(x)\n",
        "est = sm.OLS(y,x2)\n",
        "est2 = est.fit()\n",
        "print(est2.summary())"
      ],
      "metadata": {
        "id": "ng0FqSQakq82",
        "outputId": "1140918d-78fa-4e3a-9903-b1c0022ebf78",
        "colab": {
          "base_uri": "https://localhost:8080/"
        }
      },
      "execution_count": 408,
      "outputs": [
        {
          "output_type": "stream",
          "name": "stdout",
          "text": [
            "                            OLS Regression Results                            \n",
            "==============================================================================\n",
            "Dep. Variable:            revenue_adj   R-squared:                       0.325\n",
            "Model:                            OLS   Adj. R-squared:                  0.325\n",
            "Method:                 Least Squares   F-statistic:                     1859.\n",
            "Date:                Thu, 01 Dec 2022   Prob (F-statistic):               0.00\n",
            "Time:                        16:27:08   Log-Likelihood:                -78693.\n",
            "No. Observations:                3855   AIC:                         1.574e+05\n",
            "Df Residuals:                    3853   BIC:                         1.574e+05\n",
            "Df Model:                           1                                         \n",
            "Covariance Type:            nonrobust                                         \n",
            "==============================================================================\n",
            "                 coef    std err          t      P>|t|      [0.025      0.975]\n",
            "------------------------------------------------------------------------------\n",
            "const       1.532e+07   4.02e+06      3.812      0.000    7.44e+06    2.32e+07\n",
            "budget_adj     2.7514      0.064     43.114      0.000       2.626       2.877\n",
            "==============================================================================\n",
            "Omnibus:                     3688.968   Durbin-Watson:                   1.830\n",
            "Prob(Omnibus):                  0.000   Jarque-Bera (JB):           269025.645\n",
            "Skew:                           4.433   Prob(JB):                         0.00\n",
            "Kurtosis:                      42.953   Cond. No.                     8.85e+07\n",
            "==============================================================================\n",
            "\n",
            "Notes:\n",
            "[1] Standard Errors assume that the covariance matrix of the errors is correctly specified.\n",
            "[2] The condition number is large, 8.85e+07. This might indicate that there are\n",
            "strong multicollinearity or other numerical problems.\n"
          ]
        },
        {
          "output_type": "stream",
          "name": "stderr",
          "text": [
            "/usr/local/lib/python3.7/dist-packages/statsmodels/tsa/tsatools.py:142: FutureWarning: In a future version of pandas all arguments of concat except for the argument 'objs' will be keyword-only\n",
            "  x = pd.concat(x[::order], 1)\n"
          ]
        }
      ]
    },
    {
      "cell_type": "markdown",
      "source": [
        "Linear equation for adjusted revenue with independant variable budget_adj:\n",
        "\\\n",
        "revenue_adj = 1.532e+07 + 2.7514 * budget_adj"
      ],
      "metadata": {
        "id": "b6NySKlbhT93"
      }
    },
    {
      "cell_type": "code",
      "source": [
        "##Pearsons R for revenue and budget\n",
        "pearsonr(df['revenue_adj'], df['budget_adj'])"
      ],
      "metadata": {
        "id": "qlpW4PyvmVBH",
        "colab": {
          "base_uri": "https://localhost:8080/"
        },
        "outputId": "77f06aa4-8139-4a0a-9260-80b89500ff36"
      },
      "execution_count": 409,
      "outputs": [
        {
          "output_type": "execute_result",
          "data": {
            "text/plain": [
              "(0.5704661221228386, 0.0)"
            ]
          },
          "metadata": {},
          "execution_count": 409
        }
      ]
    },
    {
      "cell_type": "code",
      "source": [
        "## Scatter Plot version of Budger_adj vs. Revenue_adj with a polynomial (Regression Line) fit \n",
        "\n",
        "X_data = df.budget_adj\n",
        "Y_data = df.revenue_adj\n",
        "\n",
        "def plot_fit(X, Y):\n",
        "    params= np.polyfit(X_data, Y_data, deg=2)\n",
        "    fit = np.polyval(params, X_data)\n",
        "\n",
        "    fig, ax1 = plt.subplots()\n",
        "    ax1.scatter(X, Y, s=1, color='b', label='Data points')\n",
        "    ax1.plot(X, fit, color='violet', alpha=1, label='Polynomial fit')\n",
        "    \n",
        "    ax1.set_title('Budget vs Revenue Polynomial Fit')\n",
        "    plt.xlabel('Budget', fontsize=14)\n",
        "    plt.ylabel('Revenue', fontsize=14)\n",
        "    ax1.legend()\n",
        "    plt.xlim(0, 2.5 * (10**8))\n",
        "    plt.show()\n",
        "    \n",
        "plot_fit(X_data, Y_data)"
      ],
      "metadata": {
        "colab": {
          "base_uri": "https://localhost:8080/",
          "height": 299
        },
        "id": "r07vqy1ZzDRD",
        "outputId": "cacb26e4-7464-407b-e045-556b61cc16ac"
      },
      "execution_count": 410,
      "outputs": [
        {
          "output_type": "display_data",
          "data": {
            "text/plain": [
              "<Figure size 432x288 with 1 Axes>"
            ],
            "image/png": "[encoded data removed]"
          },
          "metadata": {
            "needs_background": "light"
          }
        }
      ]
    }
  ]
}